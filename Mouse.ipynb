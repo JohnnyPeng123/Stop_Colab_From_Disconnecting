{
 "cells": [
  {
   "cell_type": "code",
   "execution_count": null,
   "metadata": {},
   "outputs": [],
   "source": [
    "import numpy as np\n",
    "import time\n",
    "import mouse\n",
    "\n",
    "while True:\n",
    "    random_row = np.random.random_sample()*100\n",
    "    random_col = np.random.random_sample()*10\n",
    "    random_time = np.random.random_sample()*np.random.random_sample() * 100\n",
    "    mouse.wheel(1000)\n",
    "    mouse.wheel(-1000)\n",
    "    mouse.move(random_row, random_col, absolute=False, duration=0.2)\n",
    "    mouse.move(-random_row, -random_col, absolute=False, duration = 0.2)\n",
    "    mouse.LEFT\n",
    "    time.sleep(random_time)"
   ]
  }
 ],
 "metadata": {
  "kernelspec": {
   "display_name": "Python 3",
   "language": "python",
   "name": "python3"
  },
  "language_info": {
   "codemirror_mode": {
    "name": "ipython",
    "version": 3
   },
   "file_extension": ".py",
   "mimetype": "text/x-python",
   "name": "python",
   "nbconvert_exporter": "python",
   "pygments_lexer": "ipython3",
   "version": "3.6.5"
  }
 },
 "nbformat": 4,
 "nbformat_minor": 2
}
